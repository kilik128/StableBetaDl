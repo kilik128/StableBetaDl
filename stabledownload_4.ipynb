{
  "cells": [
    {
      "cell_type": "code",
      "execution_count": null,
      "metadata": {
        "id": "Zrm06qbulBXt"
      },
      "outputs": [],
      "source": [
        "import sys\n",
        "import os\n",
        "import requests\n",
        "import cv2\n",
        "import glob\n",
        "from PIL import Image\n",
        "from google.colab import drive\n",
        "\n",
        "alltxt = glob.glob( \"/content/drive/MyDrive/DataBase/txtb/\" + '/*.txt')\n",
        "for i in range(3,4):\n",
        "    print(alltxt[i])\n",
        "    print(alltxt[i].split(\"/\")[-1])\n",
        "    cc =alltxt[i].split(\"/\")[-1]\n",
        "    file = open(alltxt[i])\n",
        "    export  = \"/content/drive/MyDrive/DataBase/PNG\"+cc+\"/\"\n",
        "    exportjpg  = \"/content/drive/MyDrive/DataBase/JPG\"+cc+\"/\"\n",
        "\n",
        "    try: \n",
        "        os.mkdir(export)\n",
        "    except OSError as error: \n",
        "        print(error)  \n",
        "    try: \n",
        "        os.mkdir(exportjpg)\n",
        "    except OSError as error: \n",
        "        print(error)  \n",
        "\n",
        "    text = file.read().splitlines()\n",
        "    print(str( len(text)))\n",
        "    for i in range(0,len(text)):\n",
        "      #print(text[i])\n",
        "      #print(text[i].split(\"/\")[-1])\n",
        "      print(str(i))\n",
        "      url = text[i]\n",
        "      name = text[i].split(\"/\")[-1]\n",
        "      if (text[i][0] == \"h\"):\n",
        "         if (os.path.exists(exportjpg +name+\".jpg\")== False):\n",
        "            r = requests.get(url, allow_redirects=True)\n",
        "            open(export+name, 'wb').write(r.content)\n",
        "            #png_img = cv2.imread(export+name)\n",
        "            #cv2.imwrite(exportjpg +name+\".jpg\", png_img, [int(cv2.IMWRITE_JPEG_QUALITY), 100])\n",
        "            if (os.path.exists(export +name)== True):\n",
        "              img_PIL = Image.open((export+name))\n",
        "              img_PIL.save(exportjpg +name+\".jpg\")"
      ]
    },
    {
      "cell_type": "code",
      "source": [
        "import sys\n",
        "import os\n",
        "import requests\n",
        "import cv2\n",
        "import glob\n",
        "from PIL import Image\n",
        "from google.colab import drive\n",
        "\n",
        "alltxt = glob.glob( \"/content/drive/MyDrive/DataBase/txtb/\" + '/*.txt')\n",
        "for i in range(3,4):\n",
        "    print(alltxt[i])\n",
        "    print(alltxt[i].split(\"/\")[-1])"
      ],
      "metadata": {
        "colab": {
          "base_uri": "https://localhost:8080/"
        },
        "id": "YYgwo9_h6yEW",
        "outputId": "5b072aff-8558-4c02-df84-90c404a34c3c"
      },
      "execution_count": 2,
      "outputs": [
        {
          "output_type": "stream",
          "name": "stdout",
          "text": [
            "/content/drive/MyDrive/DataBase/txtb/4.txt\n",
            "4.txt\n"
          ]
        }
      ]
    },
    {
      "cell_type": "code",
      "source": [
        "from PIL import Image\n",
        "\n",
        "p = \"/content/drive/MyDrive/DataBase/PNG4.txt\"\n",
        "e = \"/content/drive/MyDrive/DataBase/JPG4.txt\"\n",
        "\n",
        "for filename in os.listdir(p):\n",
        "    if filename.endswith(\".png\"):\n",
        "      if (os.path.exists(e+'/'+filename +'.jpg')== False):\n",
        "       im1 = Image.open(p+'/'+filename)\n",
        "       im1.save(e+'/'+filename +'.jpg')\n",
        "\n"
      ],
      "metadata": {
        "id": "gLsziZsG6juI"
      },
      "execution_count": null,
      "outputs": []
    },
    {
      "cell_type": "code",
      "source": [
        "os.remove(\"/content/drive/MyDrive/DataBase/PNG4.txt/A_character_from_Final_Fantasy_Greek_architecture_pearly_flagstones_giant_trees_god_rays_bloom_volumetric_fog_moody_ambiance_cinematic_lig_-H_1024_-n_9_-g_-S_3059937512_ts-1659987773_idx-0.png\")"
      ],
      "metadata": {
        "id": "xKIyF9gtgvh2"
      },
      "execution_count": 6,
      "outputs": []
    },
    {
      "cell_type": "code",
      "source": [
        "from google.colab import drive\n",
        "drive.mount('/content/drive')"
      ],
      "metadata": {
        "id": "__z1XZvaywXH"
      },
      "execution_count": null,
      "outputs": []
    },
    {
      "cell_type": "code",
      "source": [
        "import glob\n",
        "images = glob.glob( \"/content/drive/MyDrive/DataBase/txt/\" + '/*.txt')\n",
        "for i in range(0,len(images)):\n",
        "    print(images[i])\n",
        "    print(images[i].split(\"/\")[-1])"
      ],
      "metadata": {
        "id": "hxw3tmy4akXk"
      },
      "execution_count": null,
      "outputs": []
    },
    {
      "cell_type": "code",
      "source": [
        "import sys\n",
        "import os\n",
        "import requests\n",
        "\n",
        "file = open(\"/content/drive/MyDrive/DataBase/txt/1.txt\")\n",
        "text = file.read().splitlines()\n",
        "ok = 0\n",
        "print(str(len(text)))\n",
        "for i in range(0,len(text)):\n",
        "  if (text[i][0] == \"h\"):\n",
        "    ok = ok +1\n",
        "\n",
        "print(str(ok))"
      ],
      "metadata": {
        "colab": {
          "base_uri": "https://localhost:8080/"
        },
        "id": "wDOIroXHVAJY",
        "outputId": "21f10bd3-d78e-42e2-b591-d51337faeff0"
      },
      "execution_count": null,
      "outputs": [
        {
          "output_type": "stream",
          "name": "stdout",
          "text": [
            "1000000\n",
            "857101\n"
          ]
        }
      ]
    },
    {
      "cell_type": "code",
      "execution_count": null,
      "metadata": {
        "colab": {
          "base_uri": "https://localhost:8080/"
        },
        "id": "1w6M6xVwxJ4W",
        "outputId": "6e6b07bf-5039-4356-d09b-d0adfe30603d"
      },
      "outputs": [
        {
          "name": "stdout",
          "output_type": "stream",
          "text": [
            "Looking in indexes: https://pypi.org/simple, https://us-python.pkg.dev/colab-wheels/public/simple/\n",
            "Requirement already satisfied: wget in /usr/local/lib/python3.7/dist-packages (3.2)\n"
          ]
        }
      ],
      "source": [
        "!pip install requests\n"
      ]
    },
    {
      "cell_type": "code",
      "execution_count": null,
      "metadata": {
        "id": "39w1U8u1lQ3D"
      },
      "outputs": [],
      "source": [
        "import zipfile\n",
        "from google.colab import drive\n",
        "\n",
        "!unzip \"/content/drive/MyDrive/DataBase/109.zip\" -d \"/content/drive/MyDrive/DataBase/txtb/\""
      ]
    }
  ],
  "metadata": {
    "colab": {
      "collapsed_sections": [],
      "name": "stabledownload 4.ipynb",
      "provenance": []
    },
    "kernelspec": {
      "display_name": "Python 3",
      "name": "python3"
    },
    "language_info": {
      "name": "python"
    }
  },
  "nbformat": 4,
  "nbformat_minor": 0
}